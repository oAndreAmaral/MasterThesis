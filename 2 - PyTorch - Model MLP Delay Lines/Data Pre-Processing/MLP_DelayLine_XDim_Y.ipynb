{
 "cells": [
  {
   "cell_type": "code",
   "execution_count": 1,
   "metadata": {},
   "outputs": [],
   "source": [
    "# Basic Libraries\n",
    "import pandas as pd\n",
    "import numpy as np\n",
    "import matplotlib.pyplot as plt\n",
    "import time\n",
    "from sklearn.preprocessing import MinMaxScaler\n",
    "from sklearn.preprocessing import PolynomialFeatures\n",
    "scaler_features = MinMaxScaler()\n",
    "scaler_labels = MinMaxScaler()\n",
    "\n",
    "# Deep Learning Pytorch Library\n",
    "import torch\n",
    "import torch.nn as nn\n",
    "import torch.nn.functional as F\n",
    "from torch.autograd import Variable\n",
    "from torch.utils.data import Dataset, TensorDataset, DataLoader\n",
    "torch.cuda.is_available()\n",
    "torch.cuda.empty_cache()\n",
    "from numpy import savetxt\n",
    "from numpy import loadtxt"
   ]
  },
  {
   "cell_type": "code",
   "execution_count": 2,
   "metadata": {},
   "outputs": [],
   "source": [
    "Dimensions_load = loadtxt('ota1_dimensions.csv')\n",
    "a  = []"
   ]
  },
  {
   "cell_type": "code",
   "execution_count": 3,
   "metadata": {},
   "outputs": [
    {
     "name": "stdout",
     "output_type": "stream",
     "text": [
      "(93, 28)\n"
     ]
    }
   ],
   "source": [
    "print(Dimensions_load.shape)"
   ]
  },
  {
   "cell_type": "code",
   "execution_count": 4,
   "metadata": {},
   "outputs": [],
   "source": [
    "for i in range(93):\n",
    "    # Load the iterative X filesS\n",
    "    X_point_load = loadtxt(f'P{i}_X.csv')\n",
    "    X_point_load = np.float16(X_point_load)\n",
    "\n",
    "    # Choose the right dimension row and tile it to the X_point_load number of rows\n",
    "    Pre_dim = Dimensions_load[i]\n",
    "    Dim = np.tile(Pre_dim, (X_point_load.shape[0], 1))\n",
    "\n",
    "    # Concatenate the two datasets along columns\n",
    "    Concat = np.concatenate((X_point_load, Dim), axis = 1)\n",
    "\n",
    "    #np.savetxt(f'X_and_Dims{i}.csv', Concat)\n",
    "\n",
    "    if len(a) == 0:\n",
    "        a = Concat\n",
    "    else:\n",
    "        a = np.concatenate((a,Concat), axis = 0)"
   ]
  },
  {
   "cell_type": "code",
   "execution_count": 5,
   "metadata": {},
   "outputs": [],
   "source": [
    "b  = []\n",
    "for i in range(93):\n",
    "    Y_point_load = loadtxt(f'P{i}_Y.csv')\n",
    "    Y_point_load = np.float16(Y_point_load)\n",
    "\n",
    "    if len(b) == 0:\n",
    "        b = Y_point_load\n",
    "    else:\n",
    "        b = np.concatenate((b,Y_point_load), axis = 0)"
   ]
  },
  {
   "cell_type": "code",
   "execution_count": 6,
   "metadata": {},
   "outputs": [],
   "source": [
    "from sklearn.preprocessing import MinMaxScaler\n",
    "scaler = MinMaxScaler()\n",
    "a = np.float16(a)\n",
    "b = np.float16(b)\n",
    "a = pd.DataFrame(a)\n",
    "a = a.dropna()\n",
    "b = pd.DataFrame(b)\n",
    "b = b.dropna()\n",
    "a.to_numpy()\n",
    "b.to_numpy()\n",
    "\n",
    "\n",
    "a = scaler_features.fit_transform(a)\n",
    "b = scaler_labels.fit_transform(b)\n"
   ]
  },
  {
   "cell_type": "code",
   "execution_count": 7,
   "metadata": {},
   "outputs": [
    {
     "data": {
      "text/plain": [
       "['scaler_labels.gz']"
      ]
     },
     "execution_count": 7,
     "metadata": {},
     "output_type": "execute_result"
    }
   ],
   "source": [
    "import joblib\n",
    "joblib.dump(scaler_features, 'scaler_features.gz')\n",
    "joblib.dump(scaler_labels, 'scaler_labels.gz')\n",
    "#my_scaler = joblib.load('scaler.gz')"
   ]
  },
  {
   "cell_type": "code",
   "execution_count": 9,
   "metadata": {},
   "outputs": [
    {
     "name": "stdout",
     "output_type": "stream",
     "text": [
      "(60296269, 34)\n",
      "(60296269, 2)\n"
     ]
    }
   ],
   "source": [
    "# Add delay line -------------------------\n",
    "df_x_waves = pd.DataFrame(a[:,0:2])\n",
    "df_x_dims = pd.DataFrame(a[:,2:30])\n",
    "\n",
    "# One delay line with shift of 1\n",
    "df_x_s1 = pd.DataFrame(a[:,0:2])\n",
    "df_x_s1 = df_x_s1.shift(1)\n",
    "\n",
    "# Second delay line with shift of 2\n",
    "df_x_s2 = pd.DataFrame(a[:,0:2])\n",
    "df_x_s2 = df_x_s2.shift(2)\n",
    "\n",
    "# Y to dataframe\n",
    "b = np.float16(b)\n",
    "df_y = pd.DataFrame(b)\n",
    "\n",
    "del a\n",
    "del b\n",
    "\n",
    "# Concatenate the columns and drop null values\n",
    "all_df = pd.concat([df_x_waves, df_x_s1, df_x_s2, df_x_dims, df_y], axis = 1)\n",
    "\n",
    "del df_x_waves, df_x_dims, df_x_s1, df_x_s2\n",
    "\n",
    "all_df = all_df.sample(frac=0.7)\n",
    "all_df = all_df.dropna()\n",
    "\n",
    "# Convert to numpy\n",
    "all = all_df.to_numpy()\n",
    "X = all[:,0:34]\n",
    "print(X.shape)\n",
    "Y = all[:,34:all.shape[1]+1]\n",
    "print(Y.shape)\n",
    "# -----------------------------------------"
   ]
  },
  {
   "cell_type": "code",
   "execution_count": 10,
   "metadata": {},
   "outputs": [],
   "source": [
    "np.savetxt('X_MLP_DelayLine2_all_dims.csv', X)\n",
    "np.savetxt('Y_MLP_DelayLine2_all_dims.csv', Y)"
   ]
  },
  {
   "cell_type": "code",
   "execution_count": null,
   "metadata": {},
   "outputs": [
    {
     "name": "stdout",
     "output_type": "stream",
     "text": [
      "(60295670, 34)\n",
      "(60295670, 2)\n"
     ]
    }
   ],
   "source": [
    "print(X.shape)\n",
    "print(Y.shape)"
   ]
  },
  {
   "cell_type": "code",
   "execution_count": null,
   "metadata": {},
   "outputs": [],
   "source": []
  }
 ],
 "metadata": {
  "interpreter": {
   "hash": "5e367e3eba0c249af86b9dca2e8a5cf4bb1dd64b5ae1ee422094ad095610b564"
  },
  "kernelspec": {
   "display_name": "Python 3.8.5 ('.venv')",
   "language": "python",
   "name": "python3"
  },
  "language_info": {
   "codemirror_mode": {
    "name": "ipython",
    "version": 3
   },
   "file_extension": ".py",
   "mimetype": "text/x-python",
   "name": "python",
   "nbconvert_exporter": "python",
   "pygments_lexer": "ipython3",
   "version": "3.8.5"
  },
  "orig_nbformat": 4
 },
 "nbformat": 4,
 "nbformat_minor": 2
}
