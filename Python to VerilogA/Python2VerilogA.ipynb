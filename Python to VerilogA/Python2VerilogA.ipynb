{
 "cells": [
  {
   "cell_type": "markdown",
   "metadata": {},
   "source": [
    "# <b><font color='green'> Python to VerilogA </font></b>"
   ]
  },
  {
   "cell_type": "markdown",
   "metadata": {},
   "source": [
    "Having the model trained in the python framework is possible to acesse the weights and bias and other parameters of the network. This script provides functions capable to, given the input parameters, generate a verilogA code.\n",
    "\n",
    "Work by: André Amaral & Nuno Lourenço (ICG-IT.Lx)"
   ]
  },
  {
   "cell_type": "code",
   "execution_count": 1,
   "metadata": {},
   "outputs": [],
   "source": [
    "# Needed Libraries\n",
    "import csv\n",
    "import numpy as np"
   ]
  },
  {
   "cell_type": "markdown",
   "metadata": {},
   "source": [
    "### <b><font color='blue'> Fully Connected Layers </font></b>\n"
   ]
  },
  {
   "cell_type": "markdown",
   "metadata": {},
   "source": [
    "<b> How to get the weights and bias </b>\n",
    "\n",
    "l = model.fc1.state_dict()\n",
    "\n",
    "W = l['weight'].detach().cpu().numpy()\n",
    "\n",
    "B = l['bias'].detach().cpu().numpy()\n"
   ]
  },
  {
   "cell_type": "markdown",
   "metadata": {},
   "source": [
    "#### <b><font color=#27BFC1> Input Layer </font></b>"
   ]
  },
  {
   "cell_type": "code",
   "execution_count": null,
   "metadata": {},
   "outputs": [],
   "source": [
    "# Inputs: W: weight matrix, B: bias matrix (in numpy)\n",
    "def FC_InputLayer_to_VerilogA(W, B, input_dim, output_dim):\n",
    "\n",
    "    # ---------------------------- Get the Weights Vector in VerilogA Structure ----------------------------\n",
    "    middle = []\n",
    "    first = '{%f' %W[0]\n",
    "    middle_out = ',%f' %W[1]\n",
    "    last = '}'\n",
    "\n",
    "    middle = first + middle_out\n",
    "\n",
    "    for i in (n+2 for n in range(np.size(W,0)-2)):\n",
    "        aux = ',%f' %W[i]\n",
    "        middle = middle + aux\n",
    "    w1_VA = middle + last\n",
    "\n",
    "    # ------------------------------------------------------------------------------------------------------\n",
    "    # ------------------------------------------------------------------------------------------------------\n",
    "    # ---------------------------- Get the Bias Vector in VerilogA Structure -------------------------------\n",
    "    middle = []\n",
    "    first = '{%f' %B[0]\n",
    "    middle_out = ',%f' %B[1]\n",
    "    last = '}'\n",
    "\n",
    "    middle = first + middle_out\n",
    "\n",
    "    for i in (n+2 for n in range(np.size(B,0)-2)):\n",
    "        aux = ',%f' %B[i]\n",
    "        middle = middle + aux\n",
    "    b1_VA = middle + last\n",
    "\n",
    "    # ------------------------------------------------------------------------------------------------------\n",
    "    # ------------------------------------------------------------------------------------------------------\n",
    "    # ------------------------------------ Write the Script of VerilogA ------------------------------------\n",
    "    neurons_number = np.size(W,0)-1\n",
    "\n",
    "    with open('ANN_FC_Input_Layer.VA', 'w', newline='') as file:\n",
    "        writer = csv.writer(file)\n",
    "        writer.writerow(['`include \"constants.vams\"'])\n",
    "        writer.writerow(['`include \"disciplines.vams\"'])\n",
    "        writer.writerow([''])\n",
    "        writer.writerow(['module ANN_FC1_Layer(x,y);'])\n",
    "        writer.writerow(['  parameter integer x_dim = %i;' %input_dim])\n",
    "        writer.writerow(['  parameter integer y_dim = %i;' %output_dim])\n",
    "        writer.writerow(['  parameter real w1[0:%i] = %s;' %(neurons_number,w1_VA)])\n",
    "        writer.writerow(['  parameter real b1[0:%i] = %s;' %(neurons_number,b1_VA)])\n",
    "        writer.writerow(['  real a[0:%i];' %neurons_number])\n",
    "        writer.writerow([''])\n",
    "        writer.writerow(['  input x;'])\n",
    "        writer.writerow(['  voltage x;'])\n",
    "        writer.writerow(['  output [0:%i]y;' %neurons_number])\n",
    "        writer.writerow(['  voltage [0:%i]y;' %neurons_number])\n",
    "        writer.writerow(['  genvar i;'])\n",
    "        writer.writerow([''])\n",
    "        writer.writerow(['  analog begin'])\n",
    "        writer.writerow(['      for(i = 0; i<= %i; i = i + 1) begin' %neurons_number])\n",
    "        writer.writerow(['          a[i] = V(x) * w1[i] + b1[i];'])\n",
    "        writer.writerow(['          V(y[i]) <+ a[i];'])\n",
    "        writer.writerow(['      end'])\n",
    "        writer.writerow(['  end'])\n",
    "        writer.writerow(['endmodule'])"
   ]
  },
  {
   "cell_type": "markdown",
   "metadata": {},
   "source": [
    "#### <b><font color=#27BFC1> Hidden Layer </font></b>"
   ]
  },
  {
   "cell_type": "code",
   "execution_count": null,
   "metadata": {},
   "outputs": [],
   "source": [
    "def FC_HiddenLayer_to_VerilogA(W, B, input_dim, output_dim):"
   ]
  },
  {
   "cell_type": "markdown",
   "metadata": {},
   "source": [
    "#### <b><font color=#27BFC1> Output Layer </font></b>"
   ]
  },
  {
   "cell_type": "code",
   "execution_count": null,
   "metadata": {},
   "outputs": [],
   "source": [
    "def FC_OutputLayer_to_VerilogA(W, B, input_dim, output_dim):\n",
    "    \n",
    "    # ---------------------------- Get the Weights Vector in VerilogA Structure ----------------------------\n",
    "    middle = []\n",
    "    first = '{%f' %W[0,0]\n",
    "    middle_out = ',%f' %W[0,1]\n",
    "    last = '}'\n",
    "\n",
    "    middle = first + middle_out\n",
    "\n",
    "    for i in (n+2 for n in range(np.size(W,1)-2)):\n",
    "        aux = ',%f' %W[0,i]\n",
    "        middle = middle + aux\n",
    "    w2_VA = middle + last\n",
    "\n",
    "    # ------------------------------------------------------------------------------------------------------\n",
    "    # ------------------------------------------------------------------------------------------------------\n",
    "    # ---------------------------- Get the Bias Vector in VerilogA Structure -------------------------------\n",
    "    first = '{%f' %B[0]\n",
    "    last = '}'\n",
    "    b2_VA = first + last\n",
    "\n",
    "    # ------------------------------------------------------------------------------------------------------\n",
    "    # ------------------------------------------------------------------------------------------------------\n",
    "    # ------------------------------------ Write the Script of VerilogA ------------------------------------\n",
    "    neurons_number = np.size(W,0)-1\n",
    "\n",
    "    with open('ANN_FC_Output_Layer.VA', 'w', newline='') as file:\n",
    "        writer = csv.writer(file)\n",
    "        writer.writerow(['`include \"constants.vams\"'])\n",
    "        writer.writerow(['`include \"disciplines.vams\"'])\n",
    "        writer.writerow([''])\n",
    "        writer.writerow(['module ANN_FC2_Layer(x,y);'])\n",
    "        writer.writerow(['  parameter integer x_dim = %i;' %input_dim])\n",
    "        writer.writerow(['  parameter integer y_dim = %i;' %output_dim])\n",
    "        writer.writerow(['  parameter real w2[0:%i] = %s;' %(neurons_number,w2_VA)])\n",
    "        writer.writerow(['  parameter real b2 = %s;' %b2_VA])\n",
    "        writer.writerow(['  real a;'])\n",
    "        writer.writerow([''])\n",
    "        writer.writerow(['  input [0:%i]x;' %neurons_number])\n",
    "        writer.writerow(['  voltage [0:%i]x;' %neurons_number])\n",
    "        writer.writerow(['  output y;'])\n",
    "        writer.writerow(['  voltage y;'])\n",
    "        writer.writerow(['  genvar i;'])\n",
    "        writer.writerow([''])\n",
    "        writer.writerow(['  analog begin'])\n",
    "        writer.writerow(['      a = 0;'])\n",
    "        writer.writerow(['      for(i = 0; i<= %i; i = i + 1) begin' %neurons_number])\n",
    "        writer.writerow(['          a = V(x[i]) * w2[i] + a;'])\n",
    "        writer.writerow(['      end'])\n",
    "        writer.writerow(['      V(y) <+ a + b2'])\n",
    "        writer.writerow(['  end'])\n",
    "        writer.writerow(['endmodule'])"
   ]
  },
  {
   "cell_type": "markdown",
   "metadata": {},
   "source": [
    "### <b><font color='blue'> Activation Functions </font></b>\n"
   ]
  },
  {
   "cell_type": "markdown",
   "metadata": {},
   "source": [
    "#### <b><font color=#27BFC1> ReLU </font></b>"
   ]
  },
  {
   "cell_type": "code",
   "execution_count": null,
   "metadata": {},
   "outputs": [],
   "source": [
    " # ------------------------------------ Write the Script of VerilogA ------------------------------------\n",
    "def ReLU_to_VerilogA():\n",
    "    with open('ReLU.VA', 'w', newline='') as file:\n",
    "        writer = csv.writer(file)\n",
    "        writer.writerow(['`include \"constants.vams\"'])\n",
    "        writer.writerow(['`include \"disciplines.vams\"'])\n",
    "        writer.writerow([''])\n",
    "        writer.writerow(['module ReLU(n_deact, n_act);'])\n",
    "        writer.writerow(['  input n_deact;'])\n",
    "        writer.writerow(['  output n_act;'])\n",
    "        writer.writerow(['  eletrical n_deact, n_act;'])\n",
    "        writer.writerow(['  real result;'])\n",
    "        writer.writerow(['  real p_num;'])\n",
    "        writer.writerow([' '])\n",
    "        writer.writerow(['  analog begin'])\n",
    "        writer.writerow(['      p_num = V(n_deact);'])\n",
    "        writer.writerow(['      if(p_num >= 0)'])\n",
    "        writer.writerow(['          result = p_num;'])\n",
    "        writer.writerow(['      else'])\n",
    "        writer.writerow(['          result = 0.0;'])\n",
    "        writer.writerow(['      V(n_act) <+ result;'])\n",
    "        writer.writerow(['  end'])\n",
    "        writer.writerow(['endmodule;'])"
   ]
  },
  {
   "cell_type": "markdown",
   "metadata": {},
   "source": [
    "#### <b><font color=#27BFC1> ELU </font></b>"
   ]
  },
  {
   "cell_type": "code",
   "execution_count": null,
   "metadata": {},
   "outputs": [],
   "source": [
    " # ------------------------------------ Write the Script of VerilogA ------------------------------------\n",
    "def ELU_to_VerilogA():\n",
    "    with open('ELU.VA', 'w', newline='') as file:\n",
    "        writer = csv.writer(file)\n",
    "        writer.writerow(['`include \"constants.vams\"'])\n",
    "        writer.writerow(['`include \"disciplines.vams\"'])\n",
    "        writer.writerow([''])\n",
    "        writer.writerow(['module ELU(n_deact, n_act);'])\n",
    "        writer.writerow(['  input n_deact;'])\n",
    "        writer.writerow(['  output n_act;'])\n",
    "        writer.writerow(['  eletrical n_deact, n_act;'])\n",
    "        writer.writerow(['  real result;'])\n",
    "        writer.writerow(['  real p_num;'])\n",
    "        writer.writerow(['  parameter real alpha = 1;'])\n",
    "        writer.writerow([' '])\n",
    "        writer.writerow(['  analog begin'])\n",
    "        writer.writerow(['      p_num = V(n_deact);'])\n",
    "        writer.writerow(['      if(p_num >= 0)'])\n",
    "        writer.writerow(['          result = p_num;'])\n",
    "        writer.writerow(['      else'])\n",
    "        writer.writerow(['          result = alpha * (exp(-p_num) - 1);'])\n",
    "        writer.writerow(['      V(n_act) <+ result;'])\n",
    "        writer.writerow(['  end'])\n",
    "        writer.writerow(['endmodule;'])"
   ]
  }
 ],
 "metadata": {
  "interpreter": {
   "hash": "5e367e3eba0c249af86b9dca2e8a5cf4bb1dd64b5ae1ee422094ad095610b564"
  },
  "kernelspec": {
   "display_name": "Python 3.8.5 ('.venv')",
   "language": "python",
   "name": "python3"
  },
  "language_info": {
   "codemirror_mode": {
    "name": "ipython",
    "version": 3
   },
   "file_extension": ".py",
   "mimetype": "text/x-python",
   "name": "python",
   "nbconvert_exporter": "python",
   "pygments_lexer": "ipython3",
   "version": "3.8.5"
  },
  "orig_nbformat": 4
 },
 "nbformat": 4,
 "nbformat_minor": 2
}
