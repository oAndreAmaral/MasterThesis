{
 "cells": [
  {
   "cell_type": "code",
   "execution_count": null,
   "metadata": {},
   "outputs": [
    {
     "ename": "",
     "evalue": "",
     "output_type": "error",
     "traceback": [
      "\u001b[1;31mFailed to start the Kernel. \n",
      "Unable to start Kernel '.venv (Python 3.8.5)' due to connection timeout. \n",
      "View Jupyter <a href='command:jupyter.viewOutput'>log</a> for further details."
     ]
    }
   ],
   "source": [
    "# Basic Libraries\n",
    "import pandas as pd\n",
    "import numpy as np\n",
    "import matplotlib.pyplot as plt\n",
    "import time\n",
    "from sklearn.preprocessing import MinMaxScaler\n",
    "from sklearn.preprocessing import PolynomialFeatures\n",
    "scaler = MinMaxScaler()\n",
    "\n",
    "# Deep Learning Pytorch Library\n",
    "import torch\n",
    "import torch.nn as nn\n",
    "import torch.nn.functional as F\n",
    "from torch.autograd import Variable\n",
    "from torch.utils.data import Dataset, TensorDataset, DataLoader\n",
    "torch.cuda.is_available()\n",
    "torch.cuda.empty_cache()\n",
    "from numpy import savetxt\n",
    "from numpy import loadtxt"
   ]
  },
  {
   "cell_type": "code",
   "execution_count": 3,
   "metadata": {},
   "outputs": [],
   "source": [
    "Dimensions_load = loadtxt('ota1_dimensions.csv')\n",
    "a  = []"
   ]
  },
  {
   "cell_type": "code",
   "execution_count": 4,
   "metadata": {},
   "outputs": [
    {
     "ename": "KeyboardInterrupt",
     "evalue": "",
     "output_type": "error",
     "traceback": [
      "\u001b[0;31m---------------------------------------------------------------------------\u001b[0m",
      "\u001b[0;31mKeyboardInterrupt\u001b[0m                         Traceback (most recent call last)",
      "\u001b[1;32m/home/aamaral/Desktop/BigDataset/Waves/X_Dim_Concatenator.ipynb Cell 3'\u001b[0m in \u001b[0;36m<cell line: 1>\u001b[0;34m()\u001b[0m\n\u001b[1;32m      <a href='vscode-notebook-cell:/home/aamaral/Desktop/BigDataset/Waves/X_Dim_Concatenator.ipynb#ch0000002?line=0'>1</a>\u001b[0m \u001b[39mfor\u001b[39;00m i \u001b[39min\u001b[39;00m \u001b[39mrange\u001b[39m(\u001b[39m93\u001b[39m):\n\u001b[1;32m      <a href='vscode-notebook-cell:/home/aamaral/Desktop/BigDataset/Waves/X_Dim_Concatenator.ipynb#ch0000002?line=1'>2</a>\u001b[0m     \u001b[39m# Load the iterative X files\u001b[39;00m\n\u001b[0;32m----> <a href='vscode-notebook-cell:/home/aamaral/Desktop/BigDataset/Waves/X_Dim_Concatenator.ipynb#ch0000002?line=2'>3</a>\u001b[0m     X_point_load \u001b[39m=\u001b[39m loadtxt(\u001b[39mf\u001b[39;49m\u001b[39m'\u001b[39;49m\u001b[39mP\u001b[39;49m\u001b[39m{\u001b[39;49;00mi\u001b[39m}\u001b[39;49;00m\u001b[39m_X.csv\u001b[39;49m\u001b[39m'\u001b[39;49m)\n\u001b[1;32m      <a href='vscode-notebook-cell:/home/aamaral/Desktop/BigDataset/Waves/X_Dim_Concatenator.ipynb#ch0000002?line=4'>5</a>\u001b[0m     \u001b[39m# Choose the right dimension row and tile it to the X_point_load number of rows\u001b[39;00m\n\u001b[1;32m      <a href='vscode-notebook-cell:/home/aamaral/Desktop/BigDataset/Waves/X_Dim_Concatenator.ipynb#ch0000002?line=5'>6</a>\u001b[0m     Pre_dim \u001b[39m=\u001b[39m Dimensions_load[i]\n",
      "File \u001b[0;32m~/.venv/lib/python3.8/site-packages/numpy/lib/npyio.py:1163\u001b[0m, in \u001b[0;36mloadtxt\u001b[0;34m(fname, dtype, comments, delimiter, converters, skiprows, usecols, unpack, ndmin, encoding, max_rows, like)\u001b[0m\n\u001b[1;32m   <a href='file:///home/aamaral/.venv/lib/python3.8/site-packages/numpy/lib/npyio.py?line=1158'>1159</a>\u001b[0m         \u001b[39mraise\u001b[39;00m \u001b[39mValueError\u001b[39;00m(\n\u001b[1;32m   <a href='file:///home/aamaral/.venv/lib/python3.8/site-packages/numpy/lib/npyio.py?line=1159'>1160</a>\u001b[0m             \u001b[39mf\u001b[39m\u001b[39m\"\u001b[39m\u001b[39mWrong number of columns at line \u001b[39m\u001b[39m{\u001b[39;00mlineno\u001b[39m}\u001b[39;00m\u001b[39m\"\u001b[39m)\n\u001b[1;32m   <a href='file:///home/aamaral/.venv/lib/python3.8/site-packages/numpy/lib/npyio.py?line=1160'>1161</a>\u001b[0m     \u001b[39m# Convert each value according to its column, then pack it\u001b[39;00m\n\u001b[1;32m   <a href='file:///home/aamaral/.venv/lib/python3.8/site-packages/numpy/lib/npyio.py?line=1161'>1162</a>\u001b[0m     \u001b[39m# according to the dtype's nesting, and store it.\u001b[39;00m\n\u001b[0;32m-> <a href='file:///home/aamaral/.venv/lib/python3.8/site-packages/numpy/lib/npyio.py?line=1162'>1163</a>\u001b[0m     chunk\u001b[39m.\u001b[39mappend(packer(convert_row(words)))\n\u001b[1;32m   <a href='file:///home/aamaral/.venv/lib/python3.8/site-packages/numpy/lib/npyio.py?line=1163'>1164</a>\u001b[0m \u001b[39mif\u001b[39;00m \u001b[39mnot\u001b[39;00m chunk:  \u001b[39m# The islice is empty, i.e. we're done.\u001b[39;00m\n\u001b[1;32m   <a href='file:///home/aamaral/.venv/lib/python3.8/site-packages/numpy/lib/npyio.py?line=1164'>1165</a>\u001b[0m     \u001b[39mbreak\u001b[39;00m\n",
      "File \u001b[0;32m~/.venv/lib/python3.8/site-packages/numpy/lib/npyio.py:1142\u001b[0m, in \u001b[0;36mloadtxt.<locals>.convert_row\u001b[0;34m(vals, _conv)\u001b[0m\n\u001b[1;32m   <a href='file:///home/aamaral/.venv/lib/python3.8/site-packages/numpy/lib/npyio.py?line=1140'>1141</a>\u001b[0m \u001b[39mdef\u001b[39;00m \u001b[39mconvert_row\u001b[39m(vals, _conv\u001b[39m=\u001b[39mconverters[\u001b[39m0\u001b[39m]):\n\u001b[0;32m-> <a href='file:///home/aamaral/.venv/lib/python3.8/site-packages/numpy/lib/npyio.py?line=1141'>1142</a>\u001b[0m     \u001b[39mreturn\u001b[39;00m [\u001b[39m*\u001b[39m\u001b[39mmap\u001b[39;49m(_conv, vals)]\n",
      "\u001b[0;31mKeyboardInterrupt\u001b[0m: "
     ]
    }
   ],
   "source": [
    "for i in range(93):\n",
    "    # Load the iterative X filesS\n",
    "    X_point_load = loadtxt(f'P{i}_X.csv')\n",
    "\n",
    "    # Choose the right dimension row and tile it to the X_point_load number of rows\n",
    "    Pre_dim = Dimensions_load[i]\n",
    "    Dim = np.tile(Pre_dim, (X_point_load.shape[0], 1))\n",
    "\n",
    "    # Concatenate the two datasets along columns\n",
    "    Concat = np.concatenate((X_point_load, Dim), axis = 1)\n",
    "\n",
    "    #np.savetxt(f'X_and_Dims{i}.csv', Concat)\n",
    "\n",
    "    if len(a) == 0:\n",
    "        a = Concat\n",
    "    else:\n",
    "        a = np.concatenate((a,Concat), axis = 0)"
   ]
  }
 ],
 "metadata": {
  "interpreter": {
   "hash": "5e367e3eba0c249af86b9dca2e8a5cf4bb1dd64b5ae1ee422094ad095610b564"
  },
  "kernelspec": {
   "display_name": "Python 3.8.5 ('.venv')",
   "language": "python",
   "name": "python3"
  },
  "language_info": {
   "codemirror_mode": {
    "name": "ipython",
    "version": 3
   },
   "file_extension": ".py",
   "mimetype": "text/x-python",
   "name": "python",
   "nbconvert_exporter": "python",
   "pygments_lexer": "ipython3",
   "version": "3.8.5"
  },
  "orig_nbformat": 4
 },
 "nbformat": 4,
 "nbformat_minor": 2
}
