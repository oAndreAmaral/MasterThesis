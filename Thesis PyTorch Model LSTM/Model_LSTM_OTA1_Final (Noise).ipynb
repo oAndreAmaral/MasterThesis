{
 "cells": [
  {
   "cell_type": "code",
   "execution_count": 1,
   "metadata": {},
   "outputs": [
    {
     "data": {
      "text/html": [
       "<style type='text/css'>\n",
       ".datatable table.frame { margin-bottom: 0; }\n",
       ".datatable table.frame thead { border-bottom: none; }\n",
       ".datatable table.frame tr.coltypes td {  color: #FFFFFF;  line-height: 6px;  padding: 0 0.5em;}\n",
       ".datatable .bool    { background: #DDDD99; }\n",
       ".datatable .object  { background: #565656; }\n",
       ".datatable .int     { background: #5D9E5D; }\n",
       ".datatable .float   { background: #4040CC; }\n",
       ".datatable .str     { background: #CC4040; }\n",
       ".datatable .time    { background: #40CC40; }\n",
       ".datatable .row_index {  background: var(--jp-border-color3);  border-right: 1px solid var(--jp-border-color0);  color: var(--jp-ui-font-color3);  font-size: 9px;}\n",
       ".datatable .frame tbody td { text-align: left; }\n",
       ".datatable .frame tr.coltypes .row_index {  background: var(--jp-border-color0);}\n",
       ".datatable th:nth-child(2) { padding-left: 12px; }\n",
       ".datatable .hellipsis {  color: var(--jp-cell-editor-border-color);}\n",
       ".datatable .vellipsis {  background: var(--jp-layout-color0);  color: var(--jp-cell-editor-border-color);}\n",
       ".datatable .na {  color: var(--jp-cell-editor-border-color);  font-size: 80%;}\n",
       ".datatable .sp {  opacity: 0.25;}\n",
       ".datatable .footer { font-size: 9px; }\n",
       ".datatable .frame_dimensions {  background: var(--jp-border-color3);  border-top: 1px solid var(--jp-border-color0);  color: var(--jp-ui-font-color3);  display: inline-block;  opacity: 0.6;  padding: 1px 10px 1px 5px;}\n",
       "</style>\n"
      ],
      "text/plain": [
       "<IPython.core.display.HTML object>"
      ]
     },
     "metadata": {},
     "output_type": "display_data"
    }
   ],
   "source": [
    "# Basic Libraries\n",
    "import pandas as pd\n",
    "import modin.pandas as n_pd\n",
    "import numpy as np\n",
    "from numpy import loadtxt\n",
    "import matplotlib.pyplot as plt\n",
    "import time\n",
    "from sklearn.preprocessing import MinMaxScaler\n",
    "scaler = MinMaxScaler()\n",
    "import random\n",
    "import os\n",
    "\n",
    "# Datatable Import\n",
    "import datatable as dt\n",
    "\n",
    "# Deep Learning Pytorch Library\n",
    "import torch\n",
    "import torch.nn as nn\n",
    "import torch.nn.functional as F\n",
    "from torch.autograd import Variable\n",
    "from torch.cuda.amp import GradScaler, autocast\n",
    "from torch.utils.data import Dataset, TensorDataset, DataLoader\n",
    "from torch.optim.lr_scheduler import ReduceLROnPlateau\n",
    "from torchinfo import summary\n",
    "torch.cuda.is_available()\n",
    "torch.cuda.empty_cache()"
   ]
  },
  {
   "cell_type": "code",
   "execution_count": 2,
   "metadata": {},
   "outputs": [],
   "source": [
    "# Seed\n",
    "seed = 123\n",
    "os.environ[\"CUBLAS_WORKSPACE_CONFIG\"]=\":4096:8\"\n",
    "torch.use_deterministic_algorithms(True)\n",
    "torch.manual_seed(seed)\n",
    "np.random.seed(seed)\n",
    "torch.cuda.manual_seed(seed)\n",
    "torch.cuda.manual_seed_all(seed)\n",
    "np.random.seed(seed)\n",
    "torch.backends.cudnn.benchmark = False\n",
    "torch.backends.cudnn.deterministic = True\n",
    "random.seed(seed)\n",
    "\n",
    "# Seed for DataLoader\n",
    "def seed_worker(worker_id):\n",
    "    worker_seed = 123\n",
    "    np.random.seed(worker_seed)\n",
    "    random.seed(worker_seed)"
   ]
  },
  {
   "cell_type": "markdown",
   "metadata": {},
   "source": [
    "# Import Dataset Features and Labels\n",
    "\n",
    "Both datasets are pre-processed and concatenated, using different code snipets."
   ]
  },
  {
   "cell_type": "code",
   "execution_count": 3,
   "metadata": {},
   "outputs": [],
   "source": [
    "# Import using datatable\n",
    "X = dt.fread(\"X.csv\")\n",
    "Y = dt.fread(\"Y.csv\")\n",
    "\n",
    "# Convert to pandas\n",
    "X = X.to_pandas()\n",
    "Y = Y.to_pandas()"
   ]
  },
  {
   "cell_type": "code",
   "execution_count": 4,
   "metadata": {},
   "outputs": [],
   "source": [
    "# Normalize the dimensions part of the X vector\n",
    "X.iloc[:,6:(X.shape[1]+1)] = scaler.fit_transform(X.iloc[:,6:(X.shape[1]+1)])"
   ]
  },
  {
   "cell_type": "markdown",
   "metadata": {},
   "source": [
    "# Create Variable Type and Give to a DataLoader\n",
    "The dataloader will allow to create batches to feed the network smoothly"
   ]
  },
  {
   "cell_type": "code",
   "execution_count": 5,
   "metadata": {},
   "outputs": [],
   "source": [
    "# Define all dataset for train\n",
    "all_dataX = Variable(torch.Tensor(X.values)) # .cuda()\n",
    "all_dataY = Variable(torch.Tensor(Y.values)) # .cuda()\n",
    "\n",
    "# Delete X and Y from memory\n",
    "del X\n",
    "del Y"
   ]
  },
  {
   "cell_type": "code",
   "execution_count": 6,
   "metadata": {},
   "outputs": [],
   "source": [
    "# Create the Dataset\n",
    "ds = TensorDataset(all_dataX, all_dataY)\n",
    "del all_dataX, all_dataY"
   ]
  },
  {
   "cell_type": "code",
   "execution_count": 7,
   "metadata": {},
   "outputs": [],
   "source": [
    "# Define the batch size\n",
    "BatchSize = 10000\n",
    "\n",
    "g = torch.Generator()\n",
    "g.manual_seed(123)\n",
    "\n",
    "# Create the DataLoader\n",
    "dl = DataLoader(ds, batch_size=BatchSize, shuffle=False, num_workers= 8, pin_memory=True, drop_last=True, generator=g, worker_init_fn= seed_worker) #shuffle was at false"
   ]
  },
  {
   "cell_type": "markdown",
   "metadata": {},
   "source": [
    "# Model LSTM OTA1 (lna1)\n",
    "The model is a LSTM neural network followed by 2 fully connected layers.  \n",
    "For that purpose the PyTorch library is used."
   ]
  },
  {
   "cell_type": "code",
   "execution_count": 21,
   "metadata": {},
   "outputs": [],
   "source": [
    "class LSTM(nn.Module):\n",
    "\n",
    "    def __init__(self, num_classes, input_size, hidden_size, num_layers, batch_size):\n",
    "        super(LSTM, self).__init__()\n",
    "        \n",
    "        # Define Variables to be used in the \"forward\" path\n",
    "        self.num_layers = num_layers\n",
    "        self.hidden_size = hidden_size\n",
    "        self.batch_init_states = int(batch_size/2)\n",
    "\n",
    "        # initialize the hidden and cell states - Stateful LSTM\n",
    "        self.hn = Variable(torch.zeros(1, self.batch_init_states, 450).cuda())\n",
    "        self.cn = Variable(torch.zeros(1, self.batch_init_states, 450).cuda())\n",
    "        \n",
    "        # Define the layers that will be used\n",
    "        self.lstm = nn.LSTM(input_size, hidden_size, num_layers, batch_first=True) # LSTM Layer\n",
    "        self.fc1 = nn.Linear(hidden_size + 28, 250) # First Linear layer (+ 28 because of the 28 features for the dimensions for the devices) 250\n",
    "        self.elu = nn.ELU() # Activation function to allows the model to destinguish de dimensions\n",
    "        self.dropout = nn.Dropout(p = 0.1) # Dropout to regularization\n",
    "        self.fc2 = nn.Linear(250, num_classes) # Second Linear Layer\n",
    "        self.fc3 = nn.Linear(28,num_classes)\n",
    "        \n",
    "    def forward(self, x, dimensions):\n",
    "        \n",
    "        # Propagate the input through LSTM module\n",
    "        ula, (self.hn, self.cn) = self.lstm(x, (self.hn.cuda(), self.cn.cuda()))\n",
    "             \n",
    "        # Ajust lstm output shape\n",
    "        hn_out = (self.hn).view(-1, self.hidden_size)\n",
    "\n",
    "        # Concatenate the lstm output and the dimension vector\n",
    "        in_fc = torch.cat((hn_out.cuda(), dimensions.cuda()), dim=1).cuda()\n",
    "\n",
    "        # Propagate the data through the fully conected layers\n",
    "        out = self.fc1(in_fc)\n",
    "        out = self.elu(out)\n",
    "        out = self.fc2(out) \n",
    "\n",
    "        return out"
   ]
  },
  {
   "cell_type": "markdown",
   "metadata": {},
   "source": [
    "## Instanciate the Model, Criterion and Optimizer"
   ]
  },
  {
   "cell_type": "code",
   "execution_count": 22,
   "metadata": {},
   "outputs": [
    {
     "data": {
      "text/plain": [
       "=================================================================\n",
       "Layer (type:depth-idx)                   Param #\n",
       "=================================================================\n",
       "DataParallel                             --\n",
       "├─LSTM: 1-1                              --\n",
       "│    └─LSTM: 2-1                         817,200\n",
       "│    └─Linear: 2-2                       119,750\n",
       "│    └─ELU: 2-3                          --\n",
       "│    └─Dropout: 2-4                      --\n",
       "│    └─Linear: 2-5                       502\n",
       "│    └─Linear: 2-6                       58\n",
       "=================================================================\n",
       "Total params: 937,510\n",
       "Trainable params: 937,510\n",
       "Non-trainable params: 0\n",
       "================================================================="
      ]
     },
     "execution_count": 22,
     "metadata": {},
     "output_type": "execute_result"
    }
   ],
   "source": [
    "# Define the Model with the input parameters\n",
    "lstm = LSTM(num_classes=2, input_size=2, hidden_size=450, num_layers=1, batch_size= BatchSize).cuda() #have 450!!\n",
    "lstm = torch.nn.DataParallel(lstm, device_ids=[0,1]).cuda()\n",
    "\n",
    "# Define the Criterion: mean-squared error loss since we are working with regression problem\n",
    "criterion = torch.nn.MSELoss()\n",
    "\n",
    "# Define the Optimizer\n",
    "optimizer = torch.optim.AdamW(lstm.parameters(), lr=0.00005)\n",
    "\n",
    "# Adaptative Learning Rate\n",
    "scheduler = torch.optim.lr_scheduler.ReduceLROnPlateau(optimizer, mode='min',factor=0.7, patience=2, min_lr = 0.000001)\n",
    "\n",
    "# Print the model structure\n",
    "summary(lstm)"
   ]
  },
  {
   "cell_type": "markdown",
   "metadata": {},
   "source": [
    "# Train the Model"
   ]
  },
  {
   "cell_type": "code",
   "execution_count": 23,
   "metadata": {},
   "outputs": [
    {
     "name": "stdout",
     "output_type": "stream",
     "text": [
      "-----> Epoch: 0, ----->loss: 6.33861E-03\n",
      "Learning Rate: 5.000000E-05 \n",
      "-----> Epoch: 2, ----->loss: 2.43615E-03\n",
      "Learning Rate: 5.000000E-05 \n",
      "-----> Epoch: 4, ----->loss: 2.21910E-03\n",
      "Learning Rate: 5.000000E-05 \n",
      "-----> Epoch: 6, ----->loss: 2.27093E-03\n",
      "Learning Rate: 5.000000E-05 \n",
      "-----> Epoch: 8, ----->loss: 2.04750E-03\n",
      "Learning Rate: 3.500000E-05 \n",
      "-----> Epoch: 10, ----->loss: 1.98089E-03\n",
      "Learning Rate: 3.500000E-05 \n",
      "-----> Epoch: 12, ----->loss: 1.81319E-03\n",
      "Learning Rate: 3.500000E-05 \n",
      "-----> Epoch: 14, ----->loss: 1.53125E-03\n",
      "Learning Rate: 3.500000E-05 \n",
      "-----> Epoch: 16, ----->loss: 1.37524E-03\n",
      "Learning Rate: 3.500000E-05 \n",
      "-----> Epoch: 18, ----->loss: 1.27999E-03\n",
      "Learning Rate: 3.500000E-05 \n",
      "\n",
      "Duration: 57 Min\n"
     ]
    }
   ],
   "source": [
    "# Define the number of epochs\n",
    "number_of_epochs = 20\n",
    "\n",
    "# Define the start time \n",
    "start_time = time.time()\n",
    "\n",
    "# Variable to store the losses per epoch\n",
    "losses = []\n",
    "errors = []\n",
    "\n",
    "# Instanciate that the model is in training mode\n",
    "lstm.train()\n",
    "\n",
    "# For every epoch defined...\n",
    "for epoch in range(number_of_epochs):\n",
    "    \n",
    "    # Feed data in batches\n",
    "    for batch_features, batch_labels in dl:\n",
    "        \n",
    "        # Extract input waves from all batch, reshape to (xxx,3,2) and send to cuda\n",
    "        input_waves = batch_features[:,0:6]\n",
    "        input_waves = input_waves.reshape(input_waves.shape[0], input_waves.shape[1] // 2, 2)\n",
    "        input_waves = input_waves.cuda()\n",
    "\n",
    "        # Extract the dimensions from all batch\n",
    "        input_dimensions = batch_features[:,6:(batch_features.shape[1]+1)]\n",
    "        input_dimension = input_dimensions.cuda()\n",
    "\n",
    "        # Pass batch labels to GPU\n",
    "        batch_labels = batch_labels.cuda()\n",
    "\n",
    "        # Initialize the gradient to avoid value agregations\n",
    "        optimizer.zero_grad()       \n",
    "\n",
    "        # enable autocasting for forward pass\n",
    "        # * speeds up linear math operations\n",
    "        # * speeds up memory-limited operations by acessing to half of bytes compared to single precision\n",
    "        # * reduces memory rrequirements for training models\n",
    "        with autocast():\n",
    "            # Predict the model using the training set\n",
    "            y_pred = lstm(input_waves, input_dimensions)\n",
    "\n",
    "            # Obtain the loss and the error\n",
    "            loss = criterion(y_pred, batch_labels)\n",
    "            error = y_pred - batch_labels\n",
    "        \n",
    "        # Backpropagation\n",
    "        loss.backward()\n",
    "        torch.nn.utils.clip_grad_norm_(lstm.parameters(), max_norm = 0.25) # gradient cliping to avoid exploding gradients\n",
    "        optimizer.step()\n",
    "\n",
    "    # Append the losses to make the plot\n",
    "    losses.append(loss.item())\n",
    "    \n",
    "    # Append the errors to obtain the metrics to create the noise\n",
    "    errors.append(error)\n",
    "\n",
    "    # Adaptative Learning Rate\n",
    "    scheduler.step(loss)\n",
    "    \n",
    "    # Print the results\n",
    "    if epoch % 2 == 0:\n",
    "        print(\"-----> Epoch: %d, ----->loss: %.5E\" % (epoch, loss.item()))\n",
    "        print(\"Learning Rate: %.6E \" % optimizer.param_groups[0][\"lr\"])\n",
    "            \n",
    "# Print the execution time\n",
    "print(f'\\nDuration: {(time.time() - start_time)/60:.0f} Min')"
   ]
  },
  {
   "cell_type": "code",
   "execution_count": 27,
   "metadata": {},
   "outputs": [
    {
     "data": {
      "text/plain": [
       "(20, 10000, 2)"
      ]
     },
     "execution_count": 27,
     "metadata": {},
     "output_type": "execute_result"
    }
   ],
   "source": [
    "errors_new = torch.stack(errors,dim = 0).cpu().data.numpy()\n",
    "errors_new.shape"
   ]
  },
  {
   "cell_type": "code",
   "execution_count": 31,
   "metadata": {},
   "outputs": [
    {
     "name": "stdout",
     "output_type": "stream",
     "text": [
      "-0.004383777\n",
      "0.046118375\n"
     ]
    }
   ],
   "source": [
    "errors_mean = np.mean(errors_new)\n",
    "errors_stdv = np.std(errors_new)\n",
    "print(errors_mean)\n",
    "print(errors_stdv)"
   ]
  },
  {
   "cell_type": "code",
   "execution_count": null,
   "metadata": {},
   "outputs": [
    {
     "data": {
      "image/png": "[encoded data removed]",
      "text/plain": [
       "<Figure size 432x288 with 1 Axes>"
      ]
     },
     "metadata": {
      "needs_background": "light"
     },
     "output_type": "display_data"
    }
   ],
   "source": [
    "# Plot the losses along the epochs\n",
    "with torch.no_grad():\n",
    "    # If the train ends normaly\n",
    "    if epoch == number_of_epochs:\n",
    "        plt.plot(range(epoch+1), losses)    \n",
    "        plt.ylabel('RMSE Loss')\n",
    "        plt.xlabel('epoch');\n",
    "        \n",
    "    # If the train is shut down \n",
    "    else:\n",
    "        plt.plot(range(epoch+1), losses)    \n",
    "        plt.ylabel('RMSE Loss')\n",
    "        plt.xlabel('epoch');"
   ]
  },
  {
   "cell_type": "markdown",
   "metadata": {},
   "source": [
    "# Save the Model"
   ]
  },
  {
   "cell_type": "code",
   "execution_count": null,
   "metadata": {},
   "outputs": [],
   "source": [
    "torch.save({\n",
    "            'model_state_dict': lstm.state_dict(),\n",
    "            'optimizer_state_dict': optimizer.state_dict()\n",
    "            }, '/home/aamaral/Desktop/BigDataset/Evaluation/Final_3.pt')"
   ]
  },
  {
   "cell_type": "code",
   "execution_count": null,
   "metadata": {},
   "outputs": [],
   "source": []
  }
 ],
 "metadata": {
  "interpreter": {
   "hash": "5e367e3eba0c249af86b9dca2e8a5cf4bb1dd64b5ae1ee422094ad095610b564"
  },
  "kernelspec": {
   "display_name": "Python 3.8.5 ('.venv')",
   "language": "python",
   "name": "python3"
  },
  "language_info": {
   "codemirror_mode": {
    "name": "ipython",
    "version": 3
   },
   "file_extension": ".py",
   "mimetype": "text/x-python",
   "name": "python",
   "nbconvert_exporter": "python",
   "pygments_lexer": "ipython3",
   "version": "3.8.5"
  },
  "orig_nbformat": 4
 },
 "nbformat": 4,
 "nbformat_minor": 2
}
