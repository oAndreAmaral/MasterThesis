{
 "cells": [
  {
   "cell_type": "markdown",
   "metadata": {},
   "source": [
    "# <b><font color='lightgreen'> Python to VerilogA </font></b>"
   ]
  },
  {
   "cell_type": "markdown",
   "metadata": {},
   "source": [
    "Having the model trained in the python framework is possible to acesse the weights and bias and other parameters of the network. This script provides functions capable to, given the input parameters, generate a verilogA code.\n",
    "\n",
    "Work by: André Amaral & Nuno Lourenço (ICG-IT.Lx)"
   ]
  },
  {
   "cell_type": "code",
   "execution_count": 1,
   "metadata": {},
   "outputs": [],
   "source": [
    "# Needed Libraries\n",
    "import csv\n",
    "import numpy as np"
   ]
  },
  {
   "cell_type": "markdown",
   "metadata": {},
   "source": [
    "### <b><font color='blue'> Fully Connected Layers </font></b>\n"
   ]
  },
  {
   "cell_type": "markdown",
   "metadata": {},
   "source": [
    "<b> How to get the weights and bias </b>\n",
    "\n",
    "l = model.fc1.state_dict()\n",
    "\n",
    "W = l['weight'].detach().cpu().numpy()\n",
    "\n",
    "B = l['bias'].detach().cpu().numpy()\n"
   ]
  },
  {
   "cell_type": "markdown",
   "metadata": {},
   "source": [
    "#### <b><font color=#27BFC1> FullConneted Layer </font></b>"
   ]
  },
  {
   "cell_type": "code",
   "execution_count": 3,
   "metadata": {},
   "outputs": [],
   "source": [
    "def FC_HiddenLayer_to_VerilogA(W, B, input_dim, output_dim):\n",
    "\n",
    "    # ---------------------------- Get the Weights Vector in VerilogA Structure ----------------------------\n",
    "\n",
    "    Pesos_VA = []\n",
    "\n",
    "    for i in range(W.shape[1]):\n",
    "        Wa = W[:, i]\n",
    "\n",
    "        middle = []\n",
    "        first = '{%f' % Wa[0]\n",
    "\n",
    "        if (W.shape[0] != 1):\n",
    "            middle_out = ',%f' % Wa[1]\n",
    "            middle = first + middle_out\n",
    "\n",
    "        last = '}'\n",
    "\n",
    "        if (W.shape[0] > 2):\n",
    "            for i in (n+2 for n in range(np.size(W, 0)-2)):\n",
    "                aux = ',%f' % Wa[i]\n",
    "                middle = middle + aux\n",
    "            Pesos_VA.append(middle + last)\n",
    "        elif (W.shape[0] == 2):\n",
    "            Pesos_VA.append(middle + last)\n",
    "        elif (W.shape[0] == 1):\n",
    "            Pesos_VA.append(first + last)\n",
    "\n",
    "    # ------------------------------------------------------------------------------------------------------\n",
    "    # ------------------------------------------------------------------------------------------------------\n",
    "    # ---------------------------- Get the Bias Vector in VerilogA Structure -------------------------------\n",
    "    middle = []\n",
    "    first = '{%f' %B[0]\n",
    "\n",
    "    if(B.shape[0] != 1):\n",
    "        middle_out = ',%f' %B[1]\n",
    "        middle = first + middle_out\n",
    "\n",
    "    last = '}'\n",
    "\n",
    "    if (B.shape[0] > 2):\n",
    "        for i in (n+2 for n in range(np.size(B,0)-2)):\n",
    "            aux = ',%f' %B[i]\n",
    "            middle = middle + aux\n",
    "        b1_VA = middle + last\n",
    "    elif (B.shape[0] == 2):\n",
    "        b1_VA = middle + last\n",
    "    elif (B.shape[0] == 1):\n",
    "        b1_VA = first + last\n",
    "\n",
    "    # ------------------------------------------------------------------------------------------------------\n",
    "    # ------------------------------------------------------------------------------------------------------\n",
    "    # ------------------------------------ Write the Script of VerilogA ------------------------------------\n",
    "    neurons_number_next = np.size(W,0)-1\n",
    "    neurons_number_prev = np.size(W,1)-1\n",
    "\n",
    "    with open('Middle_Layer.VA', 'w', newline='') as file:\n",
    "        writer = csv.writer(file)\n",
    "        writer.writerow(['`include \"constants.vams\"'])\n",
    "        writer.writerow(['`include \"disciplines.vams\"'])\n",
    "        writer.writerow([''])\n",
    "        writer.writerow(['module ANN_Middle_Layer(x,y);'])\n",
    "        writer.writerow([''])\n",
    "        writer.writerow(['  parameter integer x_dim = %i;' %input_dim])\n",
    "        writer.writerow(['  parameter integer y_dim = %i;' %output_dim])\n",
    "        \n",
    "        for i in range(neurons_number_prev+1):\n",
    "            writer.writerow(['  parameter real W2%i[0:%i] = %s;' %(i,neurons_number_next,Pesos_VA[i])])\n",
    "        \n",
    "        writer.writerow(['  parameter real b[0:%i] = %s;' %(neurons_number_next,b1_VA)])                \n",
    "        writer.writerow(['  real a2[0:%i];' %neurons_number_next])\n",
    "        writer.writerow([''])\n",
    "        writer.writerow(['  input [0:%i]x;' %neurons_number_prev])\n",
    "        writer.writerow(['  voltage [0:%i]x;' %neurons_number_prev])\n",
    "        writer.writerow(['  output [0:%i]y;' %neurons_number_next])\n",
    "        writer.writerow(['  voltage [0:%i]y;' %neurons_number_next])\n",
    "        writer.writerow(['  genvar i;'])\n",
    "        writer.writerow([''])\n",
    "        writer.writerow(['  analog begin'])\n",
    "\n",
    "        #Initialize the output variable (since is use an acumulator)\n",
    "        for i in range(neurons_number_next+1):\n",
    "            writer.writerow(['      a2[%i] = 0;' %i])\n",
    "        \n",
    "        writer.writerow([''])\n",
    "\n",
    "        #Write the forward path\n",
    "        for i in range(neurons_number_next+1):\n",
    "            for j in range(neurons_number_prev+1):\n",
    "                writer.writerow(['      a2[%i] = V(x[%i]) * W2%i[%i] + a2[%i];' %(i,j,j,i,i)])\n",
    "        \n",
    "        writer.writerow([''])\n",
    "\n",
    "        #Update the output voltage pin\n",
    "        writer.writerow(['      for(i = 0; i<= %i; i = i + 1) begin' %neurons_number_next])\n",
    "        writer.writerow(['          V(y[i]) <+ a2[i] + b[i];'])\n",
    "\n",
    "        writer.writerow(['      end'])\n",
    "        writer.writerow(['  end'])\n",
    "        writer.writerow(['endmodule'])"
   ]
  },
  {
   "cell_type": "markdown",
   "metadata": {},
   "source": [
    "### <b><font color='blue'> LSTM Layers </font></b>\n"
   ]
  },
  {
   "cell_type": "markdown",
   "metadata": {},
   "source": [
    "To get the internal weights and bias use:\n",
    "\n",
    "<b>Weights Input:</b> <i>w_ii, w_if, w_ic, w_io = <model_name>.<lstm_layer_name>.weight_ih_l0.chunk(4, 0)</i>\n",
    "\n",
    "<b>Weights Hidden:</b> <i>w_ii, w_if, w_ic, w_io = <model_name>.<lstm_layer_name>.weight_hh_l0.chunk(4, 0)</i>\n",
    "\n",
    "In case of use DataParallel (train the model with multiple GPU's):\n",
    "\n",
    "<b>Weights Input:</b> <i>w_ii, w_if, w_ic, w_io = <model_name>.<module><lstm_layer_name>.weight_ih_l0.chunk(4, 0)</i>"
   ]
  },
  {
   "cell_type": "code",
   "execution_count": 1,
   "metadata": {},
   "outputs": [],
   "source": [
    "def LSTM_Layer_to_VerilogA():\n",
    "    with open('LSTM_Layer.VA', 'w', newline='') as file:\n",
    "        writer = csv.writer(file)\n",
    "        writer.writerow(['`include \"constants.vams\"'])\n",
    "        writer.writerow(['`include \"disciplines.vams\"'])\n",
    "        writer.writerow([''])\n",
    "        writer.writerow(['module LSTM_Layer(H_prev, C_prev, x, H_out, C_out);'])\n",
    "        writer.writerow(['  \tinput H_prev, C_prev, x;'])\n",
    "        writer.writerow(['  \tvoltage H_prev, C_prev, x;'])\n",
    "        writer.writerow(['  \toutput H_out, C_out;'])\n",
    "        writer.writerow(['  \tvoltage H_out, C_out;'])\n",
    "        writer.writerow([''])\n",
    "        writer.writerow(['  \treal C_til;'])\n",
    "        writer.writerow(['  \treal O_t_aux;'])\n",
    "        writer.writerow(['  \treal O_t;'])\n",
    "        writer.writerow(['  \treal I_t_aux;'])\n",
    "        writer.writerow(['  \treal I_t;'])\n",
    "        writer.writerow(['  \treal F_t_aux;'])\n",
    "        writer.writerow(['  \treal F_t;'])\n",
    "        writer.writerow(['  \treal C_t;'])\n",
    "        writer.writerow(['  \treal output_value;'])\n",
    "        writer.writerow([''])\n",
    "        writer.writerow(['  \tparameter real Wf = ????;'])\n",
    "        writer.writerow(['  \tparameter real Wi = ????;'])\n",
    "        writer.writerow(['  \tparameter real Wo = ????;'])\n",
    "        writer.writerow(['  \tparameter real Wc = ????;'])\n",
    "        writer.writerow(['  \tparameter real Uf = ????;'])\n",
    "        writer.writerow(['  \tparameter real Ui = ????;'])\n",
    "        writer.writerow(['  \tparameter real Uo = ????;'])\n",
    "        writer.writerow(['  \tparameter real Uc = ????;'])\n",
    "        writer.writerow(['  \tparameter real bf = ????;'])\n",
    "        writer.writerow(['  \tparameter real bi = ????;'])\n",
    "        writer.writerow(['  \tparameter real bo = ????;'])\n",
    "        writer.writerow(['  \tparameter real bc = ????;'])\n",
    "        writer.writerow([''])\n",
    "        writer.writerow(['  \tparameter real HiddenInit = ????;'])\n",
    "        writer.writerow(['  \tparameter real CellInit = ????;'])\n",
    "        writer.writerow([''])\n",
    "        writer.writerow(['  \tanalog begin'])\n",
    "        writer.writerow([''])\n",
    "        writer.writerow(['  \t    V(H_prev) <+ Hidden;'])\n",
    "        writer.writerow(['  \t    V(H_prev) <+ Cell;'])\n",
    "        writer.writerow([''])\n",
    "        writer.writerow(['  \t    C_til = tanh(Wc * V(x) + Uc * V(H_prev) + bc);'])\n",
    "        writer.writerow([''])\n",
    "        writer.writerow(['  \t    O_t_aux = Wo * V(x) + Uo * V(H_prev) + bo;'])\n",
    "        writer.writerow(['  \t    O_t = 1/(1+exp(-O_t_aux));'])\n",
    "        writer.writerow([''])\n",
    "        writer.writerow(['  \t    I_t_aux = Wi * V(x) + Ui * V(H_prev) + bi;'])\n",
    "        writer.writerow(['  \t    I_t = 1/(1+exp(-I_t_aux));'])\n",
    "        writer.writerow([''])\n",
    "        writer.writerow(['  \t    F_t_aux = Wf * V(x) + Uf * V(H_prev) + bf;'])\n",
    "        writer.writerow(['  \t    F_t = 1/(1+exp(-F_t_aux));'])\n",
    "        writer.writerow([''])\n",
    "        writer.writerow(['  \t    C_t = F_t * V(C_prev) + I_t * C_til;'])\n",
    "        writer.writerow([''])\n",
    "        writer.writerow(['  \t    output_value = O_t * tanh(V(C_out));'])\n",
    "        writer.writerow([''])\n",
    "        writer.writerow(['  \tend'])\n",
    "        writer.writerow([''])\n",
    "        writer.writerow(['  \tV(C_out) <+ C_t;'])\n",
    "        writer.writerow(['  \tV(C_prev) <+ C_t;'])\n",
    "        writer.writerow(['  \tV(H_out) <+ output_value;'])\n",
    "        writer.writerow(['  \tV(H_prev) <+ output_value;'])\n",
    "        writer.writerow([''])\n",
    "        writer.writerow(['endmodule'])\n"
   ]
  },
  {
   "cell_type": "markdown",
   "metadata": {},
   "source": [
    "### <b><font color='blue'> Activation Functions </font></b>\n"
   ]
  },
  {
   "cell_type": "markdown",
   "metadata": {},
   "source": [
    "#### <b><font color=#27BFC1> ReLU </font></b>"
   ]
  },
  {
   "cell_type": "code",
   "execution_count": null,
   "metadata": {},
   "outputs": [],
   "source": [
    " # ------------------------------------ Write the Script of VerilogA ------------------------------------\n",
    "def ReLU_to_VerilogA():\n",
    "    with open('ReLU.VA', 'w', newline='') as file:\n",
    "        writer = csv.writer(file)\n",
    "        writer.writerow(['`include \"constants.vams\"'])\n",
    "        writer.writerow(['`include \"disciplines.vams\"'])\n",
    "        writer.writerow([''])\n",
    "        writer.writerow(['module ReLU(n_deact, n_act);'])\n",
    "        writer.writerow(['  input n_deact;'])\n",
    "        writer.writerow(['  output n_act;'])\n",
    "        writer.writerow(['  eletrical n_deact, n_act;'])\n",
    "        writer.writerow(['  real result;'])\n",
    "        writer.writerow(['  real p_num;'])\n",
    "        writer.writerow([' '])\n",
    "        writer.writerow(['  analog begin'])\n",
    "        writer.writerow(['      p_num = V(n_deact);'])\n",
    "        writer.writerow(['      if(p_num >= 0)'])\n",
    "        writer.writerow(['          result = p_num;'])\n",
    "        writer.writerow(['      else'])\n",
    "        writer.writerow(['          result = 0.0;'])\n",
    "        writer.writerow(['      V(n_act) <+ result;'])\n",
    "        writer.writerow(['  end'])\n",
    "        writer.writerow(['endmodule;'])"
   ]
  },
  {
   "cell_type": "markdown",
   "metadata": {},
   "source": [
    "#### <b><font color=#27BFC1> ELU </font></b>"
   ]
  },
  {
   "cell_type": "code",
   "execution_count": null,
   "metadata": {},
   "outputs": [],
   "source": [
    " # ------------------------------------ Write the Script of VerilogA ------------------------------------\n",
    "def ELU_to_VerilogA():\n",
    "    with open('ELU.VA', 'w', newline='') as file:\n",
    "        writer = csv.writer(file)\n",
    "        writer.writerow(['`include \"constants.vams\"'])\n",
    "        writer.writerow(['`include \"disciplines.vams\"'])\n",
    "        writer.writerow([''])\n",
    "        writer.writerow(['module ELU(n_deact, n_act);'])\n",
    "        writer.writerow(['  input n_deact;'])\n",
    "        writer.writerow(['  output n_act;'])\n",
    "        writer.writerow(['  eletrical n_deact, n_act;'])\n",
    "        writer.writerow(['  real result;'])\n",
    "        writer.writerow(['  real p_num;'])\n",
    "        writer.writerow(['  parameter real alpha = 1;'])\n",
    "        writer.writerow([' '])\n",
    "        writer.writerow(['  analog begin'])\n",
    "        writer.writerow(['      p_num = V(n_deact);'])\n",
    "        writer.writerow(['      if(p_num > 0)'])\n",
    "        writer.writerow(['          result = p_num;'])\n",
    "        writer.writerow(['      else'])\n",
    "        writer.writerow(['          result = alpha * (exp(p_num) - 1);'])\n",
    "        writer.writerow(['      V(n_act) <+ result;'])\n",
    "        writer.writerow(['  end'])\n",
    "        writer.writerow(['endmodule;'])"
   ]
  }
 ],
 "metadata": {
  "interpreter": {
   "hash": "5e367e3eba0c249af86b9dca2e8a5cf4bb1dd64b5ae1ee422094ad095610b564"
  },
  "kernelspec": {
   "display_name": "Python 3.8.5 ('.venv')",
   "language": "python",
   "name": "python3"
  },
  "language_info": {
   "codemirror_mode": {
    "name": "ipython",
    "version": 3
   },
   "file_extension": ".py",
   "mimetype": "text/x-python",
   "name": "python",
   "nbconvert_exporter": "python",
   "pygments_lexer": "ipython3",
   "version": "3.8.5"
  },
  "orig_nbformat": 4
 },
 "nbformat": 4,
 "nbformat_minor": 2
}
