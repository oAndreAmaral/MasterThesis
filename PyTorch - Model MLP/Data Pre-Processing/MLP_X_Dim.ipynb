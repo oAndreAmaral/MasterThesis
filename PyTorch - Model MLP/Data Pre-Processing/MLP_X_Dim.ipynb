{
 "cells": [
  {
   "cell_type": "code",
   "execution_count": null,
   "metadata": {},
   "outputs": [],
   "source": [
    "# Basic Libraries\n",
    "import pandas as pd\n",
    "import numpy as np\n",
    "import matplotlib.pyplot as plt\n",
    "import time\n",
    "from sklearn.preprocessing import MinMaxScaler\n",
    "from sklearn.preprocessing import PolynomialFeatures\n",
    "scaler = MinMaxScaler()\n",
    "\n",
    "# Deep Learning Pytorch Library\n",
    "import torch\n",
    "import torch.nn as nn\n",
    "import torch.nn.functional as F\n",
    "from torch.autograd import Variable\n",
    "from torch.utils.data import Dataset, TensorDataset, DataLoader\n",
    "torch.cuda.is_available()\n",
    "torch.cuda.empty_cache()\n",
    "from numpy import savetxt\n",
    "from numpy import loadtxt"
   ]
  },
  {
   "cell_type": "code",
   "execution_count": null,
   "metadata": {},
   "outputs": [],
   "source": [
    "Dimensions_load = loadtxt('ota1_dimensions.csv')\n",
    "a  = []"
   ]
  },
  {
   "cell_type": "code",
   "execution_count": null,
   "metadata": {},
   "outputs": [],
   "source": [
    "print(Dimensions_load.shape)"
   ]
  },
  {
   "cell_type": "code",
   "execution_count": null,
   "metadata": {},
   "outputs": [],
   "source": [
    "for i in range(93):\n",
    "    # Load the iterative X filesS\n",
    "    X_point_load = loadtxt(f'P{i}_X.csv')\n",
    "\n",
    "    # Choose the right dimension row and tile it to the X_point_load number of rows\n",
    "    Pre_dim = Dimensions_load[i]\n",
    "    Dim = np.tile(Pre_dim, (X_point_load.shape[0], 1))\n",
    "\n",
    "    # Concatenate the two datasets along columns\n",
    "    Concat = np.concatenate((X_point_load, Dim), axis = 1)\n",
    "\n",
    "    #np.savetxt(f'X_and_Dims{i}.csv', Concat)\n",
    "\n",
    "    if len(a) == 0:\n",
    "        a = Concat\n",
    "    else:\n",
    "        a = np.concatenate((a,Concat), axis = 0)"
   ]
  },
  {
   "cell_type": "code",
   "execution_count": null,
   "metadata": {},
   "outputs": [],
   "source": [
    "np.savetxt('X_MLP.csv', a)"
   ]
  }
 ],
 "metadata": {
  "interpreter": {
   "hash": "5e367e3eba0c249af86b9dca2e8a5cf4bb1dd64b5ae1ee422094ad095610b564"
  },
  "kernelspec": {
   "display_name": "Python 3.8.5 ('.venv')",
   "language": "python",
   "name": "python3"
  },
  "language_info": {
   "name": "python",
   "version": "3.8.5"
  },
  "orig_nbformat": 4
 },
 "nbformat": 4,
 "nbformat_minor": 2
}
