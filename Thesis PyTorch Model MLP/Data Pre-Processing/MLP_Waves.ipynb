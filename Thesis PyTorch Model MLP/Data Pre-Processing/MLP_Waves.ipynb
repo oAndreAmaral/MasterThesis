{
 "cells": [
  {
   "cell_type": "code",
   "execution_count": 27,
   "metadata": {},
   "outputs": [],
   "source": [
    "# Basic Libraries\n",
    "import pandas as pd\n",
    "import numpy as np\n",
    "import matplotlib.pyplot as plt\n",
    "import time\n",
    "from sklearn.preprocessing import MinMaxScaler\n",
    "scaler = MinMaxScaler()\n",
    "\n",
    "# Deep Learning Pytorch LibrarySS\n",
    "import torch\n",
    "import torch.nn as nn\n",
    "import torch.nn.functional as F\n",
    "from torch.autograd import Variable\n",
    "from torch.utils.data import Dataset, TensorDataset, DataLoader\n",
    "torch.cuda.is_available()\n",
    "torch.cuda.empty_cache()\n",
    "from numpy import savetxt"
   ]
  },
  {
   "cell_type": "code",
   "execution_count": 58,
   "metadata": {},
   "outputs": [],
   "source": [
    "for i in range(93):\n",
    "\n",
    "    df_ca1 = pd.read_csv(f'ota1_lna1_{i}_ca1.csv')\n",
    "    df_ca2 = pd.read_csv(f'ota1_lna1_{i}_ca2.csv')\n",
    "    df_ca3 = pd.read_csv(f'ota1_lna1_{i}_ca3.csv')\n",
    "    df_ca4 = pd.read_csv(f'ota1_lna1_{i}_ca4.csv')\n",
    "    df_cf1 = pd.read_csv(f'ota1_lna1_{i}_cf1.csv')\n",
    "    df_cf2 = pd.read_csv(f'ota1_lna1_{i}_cf2.csv')\n",
    "    df_cf3 = pd.read_csv(f'ota1_lna1_{i}_cf3.csv')\n",
    "    df_cf4 = pd.read_csv(f'ota1_lna1_{i}_cf4.csv')\n",
    "    df_cf5 = pd.read_csv(f'ota1_lna1_{i}_cf5.csv')\n",
    "\n",
    "    seq_length = 3\n",
    "\n",
    "    # CA1\n",
    "    training_set_param_ca1 = df_ca1[['vip', 'vop']].values\n",
    "    x_ca1 = scaler.fit_transform(training_set_param_ca1)\n",
    "    training_set_labels_ca1 = df_ca1[['out+', 'out-']].values\n",
    "    y_ca1 = scaler.fit_transform(training_set_labels_ca1)\n",
    "\n",
    "    # CA2\n",
    "    training_set_param_ca2 = df_ca2[['vip', 'vop']].values\n",
    "    x_ca2 = scaler.fit_transform(training_set_param_ca2)\n",
    "    training_set_labels_ca2 = df_ca2[['out+', 'out-']].values\n",
    "    y_ca2 = scaler.fit_transform(training_set_labels_ca2)\n",
    "\n",
    "    # CA3\n",
    "    training_set_param_ca3 = df_ca3[['vip', 'vop']].values\n",
    "    x_ca3 = scaler.fit_transform(training_set_param_ca3)\n",
    "    training_set_labels_ca3 = df_ca3[['out+', 'out-']].values\n",
    "    y_ca3 = scaler.fit_transform(training_set_labels_ca3)\n",
    "\n",
    "    # CA4\n",
    "    training_set_param_ca4 = df_ca4[['vip', 'vop']].values\n",
    "    x_ca4 = scaler.fit_transform(training_set_param_ca4)\n",
    "    training_set_labels_ca4 = df_ca4[['out+', 'out-']].values\n",
    "    y_ca4 = scaler.fit_transform(training_set_labels_ca4)\n",
    "\n",
    "    # CF1\n",
    "    training_set_param_cf1 = df_cf1[['vip', 'vop']].values\n",
    "    x_cf1 = scaler.fit_transform(training_set_param_cf1)\n",
    "    training_set_labels_cf1 = df_cf1[['out+', 'out-']].values\n",
    "    y_cf1 = scaler.fit_transform(training_set_labels_cf1)\n",
    "\n",
    "    # CF2\n",
    "    training_set_param_cf2 = df_cf2[['vip', 'vop']].values\n",
    "    x_cf2 = scaler.fit_transform(training_set_param_cf2)\n",
    "    training_set_labels_cf2 = df_cf2[['out+', 'out-']].values\n",
    "    y_cf2 = scaler.fit_transform(training_set_labels_cf2)\n",
    "\n",
    "    # CF3\n",
    "    training_set_param_cf3 = df_cf3[['vip', 'vop']].values\n",
    "    x_cf3 = scaler.fit_transform(training_set_param_cf3)\n",
    "    training_set_labels_cf3 = df_cf3[['out+', 'out-']].values\n",
    "    y_cf3 = scaler.fit_transform(training_set_labels_cf3)\n",
    "\n",
    "    # CF4\n",
    "    training_set_param_cf4 = df_cf4[['vip', 'vop']].values\n",
    "    x_cf4 = scaler.fit_transform(training_set_param_cf4)\n",
    "    training_set_labels_cf4 = df_cf4[['out+', 'out-']].values\n",
    "    y_cf4 = scaler.fit_transform(training_set_labels_cf4)\n",
    "\n",
    "    # CF5\n",
    "    training_set_param_cf5 = df_cf5[['vip', 'vop']].values\n",
    "    x_cf5 = scaler.fit_transform(training_set_param_cf5)\n",
    "    training_set_labels_cf5 = df_cf5[['out+', 'out-']].values\n",
    "    y_cf5 = scaler.fit_transform(training_set_labels_cf5)\n",
    "\n",
    "    # Obtain the X and Y\n",
    "    X = np.concatenate((x_ca1, x_ca2, x_ca3, x_ca4, x_cf1, x_cf2, x_cf3, x_cf4, x_cf5), axis = 0)\n",
    "    Y = np.concatenate((y_ca1, y_ca2, y_ca3, y_ca4, y_cf1, y_cf2, y_cf3, y_cf4, y_cf5), axis = 0)\n",
    "    \n",
    "\n"
   ]
  },
  {
   "cell_type": "code",
   "execution_count": 64,
   "metadata": {},
   "outputs": [
    {
     "name": "stdout",
     "output_type": "stream",
     "text": [
      "(926066, 2)\n",
      "(926066, 2)\n"
     ]
    }
   ],
   "source": [
    "print(X.shape)\n",
    "X_reshaped = X.reshape(X.shape[0], -1)\n",
    "print(X_reshaped.shape)"
   ]
  },
  {
   "cell_type": "code",
   "execution_count": 71,
   "metadata": {},
   "outputs": [
    {
     "name": "stdout",
     "output_type": "stream",
     "text": [
      "[[0.5   0.5  ]\n",
      " [0.5   0.5  ]\n",
      " [0.5   0.5  ]\n",
      " ...\n",
      " [0.345 0.655]\n",
      " [0.422 0.578]\n",
      " [  nan   nan]]\n"
     ]
    }
   ],
   "source": [
    "print(X)"
   ]
  },
  {
   "cell_type": "code",
   "execution_count": 73,
   "metadata": {},
   "outputs": [
    {
     "name": "stdout",
     "output_type": "stream",
     "text": [
      "[[False False]\n",
      " [False False]\n",
      " [False False]\n",
      " ...\n",
      " [False False]\n",
      " [False False]\n",
      " [ True  True]]\n"
     ]
    }
   ],
   "source": [
    "a = np.isnan(X)\n",
    "print(a)"
   ]
  },
  {
   "cell_type": "code",
   "execution_count": null,
   "metadata": {},
   "outputs": [],
   "source": [
    "\n",
    "    # Reshape X\n",
    "    X_reshaped = X.reshape(X.shape[0], -1)\n",
    "\n",
    "    # Save the Files\n",
    "    np.savetxt(f'P{i}_X.csv', X_reshaped)\n",
    "    np.savetxt(f'P{i}_Y.csv', Y)"
   ]
  }
 ],
 "metadata": {
  "interpreter": {
   "hash": "5e367e3eba0c249af86b9dca2e8a5cf4bb1dd64b5ae1ee422094ad095610b564"
  },
  "kernelspec": {
   "display_name": "Python 3.8.5 ('.venv')",
   "language": "python",
   "name": "python3"
  },
  "language_info": {
   "codemirror_mode": {
    "name": "ipython",
    "version": 3
   },
   "file_extension": ".py",
   "mimetype": "text/x-python",
   "name": "python",
   "nbconvert_exporter": "python",
   "pygments_lexer": "ipython3",
   "version": "3.8.5"
  },
  "orig_nbformat": 4
 },
 "nbformat": 4,
 "nbformat_minor": 2
}
